{
 "cells": [
  {
   "cell_type": "markdown",
   "id": "9c13d6fc",
   "metadata": {},
   "source": [
    "# 🎲 Dice Roll Simulator Using NumPy\n",
    "\n",
    "This project simulates rolling a 6-sided dice multiple times using NumPy. \n",
    "It analyzes the frequency of each face, probability distribution, and other statistics.\n",
    "\n",
    "**Tools Used**: Python, NumPy  \n",
    "**Author**: [Your Name]\n"
   ]
  },
  {
   "cell_type": "markdown",
   "id": "71596be8",
   "metadata": {},
   "source": []
  },
  {
   "cell_type": "code",
   "execution_count": 2,
   "id": "14731d85",
   "metadata": {},
   "outputs": [
    {
     "name": "stdout",
     "output_type": "stream",
     "text": [
      "First 20 Rolls: [6 3 5 3 2 2 3 6 1 6 3 4 1 4 5 4 6 4 5 2]\n"
     ]
    }
   ],
   "source": [
    "import numpy as np\n",
    "# Simulate 1000 rolls of a 6-sided die\n",
    "num_rolls = 1000\n",
    "dice_rolls = np.random.randint(1, 7, size=num_rolls)\n",
    "\n",
    "# Display the first 20 rolls\n",
    "print(\"First 20 Rolls:\", dice_rolls[:20])\n"
   ]
  },
  {
   "cell_type": "code",
   "execution_count": 3,
   "id": "81603d88",
   "metadata": {},
   "outputs": [
    {
     "name": "stdout",
     "output_type": "stream",
     "text": [
      "Face 1: 177 times\n",
      "Face 2: 177 times\n",
      "Face 3: 158 times\n",
      "Face 4: 184 times\n",
      "Face 5: 157 times\n",
      "Face 6: 147 times\n"
     ]
    }
   ],
   "source": [
    "# Count frequency of each face (1 to 6)\n",
    "face_values = np.arange(1, 7)\n",
    "frequencies = np.array([np.sum(dice_rolls == face) for face in face_values])\n",
    "\n",
    "# Display frequencies\n",
    "for face, freq in zip(face_values, frequencies):\n",
    "    print(f\"Face {face}: {freq} times\")\n"
   ]
  },
  {
   "cell_type": "code",
   "execution_count": 4,
   "id": "b017415d",
   "metadata": {},
   "outputs": [
    {
     "name": "stdout",
     "output_type": "stream",
     "text": [
      "Face 1: 0.177\n",
      "Face 2: 0.177\n",
      "Face 3: 0.158\n",
      "Face 4: 0.184\n",
      "Face 5: 0.157\n",
      "Face 6: 0.147\n"
     ]
    }
   ],
   "source": [
    "# Calculate probabilities\n",
    "probabilities = frequencies / num_rolls\n",
    "\n",
    "# Display probabilities\n",
    "for face, prob in zip(face_values, probabilities):\n",
    "    print(f\"Face {face}: {prob:.3f}\")\n"
   ]
  },
  {
   "cell_type": "code",
   "execution_count": 5,
   "id": "63cdbe52",
   "metadata": {},
   "outputs": [
    {
     "name": "stdout",
     "output_type": "stream",
     "text": [
      "Most Frequent Face: 4\n",
      "Least Frequent Face: 6\n"
     ]
    }
   ],
   "source": [
    "most_frequent = face_values[np.argmax(frequencies)]\n",
    "least_frequent = face_values[np.argmin(frequencies)]\n",
    "\n",
    "print(f\"Most Frequent Face: {most_frequent}\")\n",
    "print(f\"Least Frequent Face: {least_frequent}\")\n"
   ]
  },
  {
   "cell_type": "code",
   "execution_count": 6,
   "id": "af4f53c1",
   "metadata": {},
   "outputs": [
    {
     "name": "stdout",
     "output_type": "stream",
     "text": [
      "Mean of Rolls: 3.41\n",
      "Variance of Rolls: 2.85\n"
     ]
    }
   ],
   "source": [
    "mean = np.mean(dice_rolls)\n",
    "variance = np.var(dice_rolls)\n",
    "\n",
    "print(f\"Mean of Rolls: {mean:.2f}\")\n",
    "print(f\"Variance of Rolls: {variance:.2f}\")\n"
   ]
  },
  {
   "cell_type": "code",
   "execution_count": 7,
   "id": "641987c9",
   "metadata": {},
   "outputs": [
    {
     "name": "stdout",
     "output_type": "stream",
     "text": [
      "Even Rolls: 508, Odd Rolls: 492\n"
     ]
    }
   ],
   "source": [
    "even_count = np.sum(dice_rolls % 2 == 0)\n",
    "odd_count = np.sum(dice_rolls % 2 != 0)\n",
    "\n",
    "print(f\"Even Rolls: {even_count}, Odd Rolls: {odd_count}\")\n"
   ]
  },
  {
   "cell_type": "code",
   "execution_count": null,
   "id": "1ec9813a",
   "metadata": {},
   "outputs": [],
   "source": []
  }
 ],
 "metadata": {
  "kernelspec": {
   "display_name": "Python 3 (ipykernel)",
   "language": "python",
   "name": "python3"
  },
  "language_info": {
   "codemirror_mode": {
    "name": "ipython",
    "version": 3
   },
   "file_extension": ".py",
   "mimetype": "text/x-python",
   "name": "python",
   "nbconvert_exporter": "python",
   "pygments_lexer": "ipython3",
   "version": "3.11.5"
  }
 },
 "nbformat": 4,
 "nbformat_minor": 5
}
